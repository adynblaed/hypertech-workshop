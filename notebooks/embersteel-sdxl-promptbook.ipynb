{
 "cells": [
  {
   "cell_type": "markdown",
   "metadata": {},
   "source": [
    "# Embersteel SDXL Promptbook\n",
    "\n",
    "- https://replicate.com/docs/guides/push-stable-diffusion#intro"
   ]
  },
  {
   "cell_type": "code",
   "execution_count": null,
   "metadata": {},
   "outputs": [],
   "source": [
    "%pip install replicate"
   ]
  },
  {
   "cell_type": "code",
   "execution_count": null,
   "metadata": {},
   "outputs": [],
   "source": [
    "import os\n",
    "os.environ[\"REPLICATE_API_TOKEN\"] = \"r8_H8D9jHuDkKodPJVGvSZNLPxvWk8Qf7g4b67fR\""
   ]
  },
  {
   "cell_type": "markdown",
   "metadata": {},
   "source": [
    "## adynblaed/embersteel-sdxl-andraxus\n",
    "\n",
    "---\n",
    "\n"
   ]
  },
  {
   "cell_type": "code",
   "execution_count": null,
   "metadata": {},
   "outputs": [],
   "source": [
    "import replicate\n",
    "import os\n",
    "\n",
    "andraxus_sdxl_prompt = \"The image portrays a dense, vibrant forest sprawling across the screen, its towering trees adorned with luminescent plants. A compelling glow emanates from the heart of the forest, where a mighty machine of iridescent gears and ancient symbols resides. Five silhouetted heroes stand at the forest's edge, each bearing unique weaponry and expressions of determination. Surrounding them are scattered relics, emitting a faint glow, promising untold power and freedom.\"\n",
    "\n",
    "# Set the input parameters as specified in the documentation\n",
    "params = {\n",
    "    \"prompt\": andraxus_sdxl_prompt,  \n",
    "    \"negative_prompt\": \"\",  # Optional: you can provide your negative prompt here\n",
    "    # \"image\": <file_path>, # Optional: Provide path to image if you're using img2img or inpaint mode\n",
    "    # \"mask\": <file_path>,  # Optional: Provide path to mask for inpaint mode\n",
    "    \"width\": 2160,\n",
    "    \"height\": 1440,\n",
    "    \"num_outputs\": 1,\n",
    "    \"scheduler\": \"K_EULER\",\n",
    "    \"num_inference_steps\": 50,\n",
    "    \"guidance_scale\": 7.5,\n",
    "    \"prompt_strength\": 0.8,\n",
    "    # \"seed\": <integer_value>, # Optional: Provide specific seed value or leave it to get randomized\n",
    "    \"refine\": \"no_refiner\",\n",
    "    \"high_noise_frac\": 0.8,\n",
    "    # \"refine_steps\": <integer_value>, # Optional: Provide specific refine steps or default to num_inference_steps\n",
    "    \"apply_watermark\": True,  # Set to False if you don't want watermarking\n",
    "    \"lora_scale\": 0.6\n",
    "}\n",
    "\n",
    "output = replicate.run(\n",
    "    \"adynblaed/embersteel-sdxl-andraxus:65c8c8fc046831fd5614ffe7f9c70ba83fb14fca00b3b8d347bdc9dadd3ed29d\",\n",
    "    input=params\n",
    ")\n",
    "\n",
    "print(output)"
   ]
  },
  {
   "cell_type": "markdown",
   "metadata": {},
   "source": [
    "### Andraxus Embersteel Prompt #1: Level\n",
    "\n",
    "---"
   ]
  },
  {
   "cell_type": "code",
   "execution_count": null,
   "metadata": {},
   "outputs": [],
   "source": [
    "from IPython.display import Image\n",
    "Image(url=output[0])"
   ]
  },
  {
   "cell_type": "markdown",
   "metadata": {},
   "source": [
    "## adynblaed/embersteel-sdxl-biazera\n",
    "\n",
    "---"
   ]
  },
  {
   "cell_type": "code",
   "execution_count": null,
   "metadata": {},
   "outputs": [],
   "source": [
    "import replicate\n",
    "import os\n",
    "\n",
    "biazera_sdxl_prompt = \"embersteel Characters: Cassius Flint, a sharpshooting gunslinger with an artifact-infused revolver; Elias Quark, an eccentric inventor armed with a wrist-mounted grappling hook; Andraxus, a mysterious shadow mage skilled in teleportation; Biazera, a nimble acrobat capable of silent assassinations; Cerephelo, a master of time manipulation, able to slow down or speed up time within limits.\"\n",
    "\n",
    "# Set the input parameters as specified in the documentation\n",
    "params = {\n",
    "    \"prompt\": biazera_sdxl_prompt,  \n",
    "    \"negative_prompt\": \"\",  # Optional: you can provide your negative prompt here\n",
    "    # \"image\": <file_path>, # Optional: Provide path to image if you're using img2img or inpaint mode\n",
    "    # \"mask\": <file_path>,  # Optional: Provide path to mask for inpaint mode\n",
    "    \"width\": 1024,\n",
    "    \"height\": 1024,\n",
    "    \"num_outputs\": 1,\n",
    "    \"scheduler\": \"K_EULER\",\n",
    "    \"num_inference_steps\": 50,\n",
    "    \"guidance_scale\": 7.5,\n",
    "    \"prompt_strength\": 0.8,\n",
    "    # \"seed\": <integer_value>, # Optional: Provide specific seed value or leave it to get randomized\n",
    "    \"refine\": \"no_refiner\",\n",
    "    \"high_noise_frac\": 0.8,\n",
    "    # \"refine_steps\": <integer_value>, # Optional: Provide specific refine steps or default to num_inference_steps\n",
    "    \"apply_watermark\": True,  # Set to False if you don't want watermarking\n",
    "    \"lora_scale\": 0.6\n",
    "}\n",
    "\n",
    "output = replicate.run(\n",
    "    \"adynblaed/embersteel-sdxl-biazera:dec66fc3eb481387331adf6f273bc4828468762dd5da97d9e6f3ec412cb50249\",\n",
    "    input=params\n",
    ")\n",
    "\n",
    "print(output)"
   ]
  },
  {
   "cell_type": "markdown",
   "metadata": {},
   "source": [
    "### Biazera Embersteel Prompt #1: Characters\n",
    "\n",
    "---"
   ]
  },
  {
   "cell_type": "code",
   "execution_count": null,
   "metadata": {},
   "outputs": [],
   "source": [
    "from IPython.display import Image\n",
    "Image(url=output[0])"
   ]
  },
  {
   "cell_type": "markdown",
   "metadata": {},
   "source": [
    "## adynblaed/embersteel-sdxl-cerephelo\n",
    "\n",
    "---"
   ]
  },
  {
   "cell_type": "code",
   "execution_count": null,
   "metadata": {},
   "outputs": [],
   "source": [
    "import replicate\n",
    "import os\n",
    "\n",
    "cerephelo_sdxl_prompt = \"Embersteel Items: 1. Chrono-Compass: A pocket-sized device that can detect time loop anomalies and reveal hidden paths in the forest. 2. Tesla Bladestaff: A retractable staff infused with electrical energy, capable of stunning enemies and powering ancient machinery. 3. Gearheart Pendant: A necklace adorned with a miniature rotating gear, granting the wearer enhanced resilience and resistance to time-altering effects.\"\n",
    "\n",
    "# Set the input parameters as specified in the documentation\n",
    "params = {\n",
    "    \"prompt\": cerephelo_sdxl_prompt,  \n",
    "    \"negative_prompt\": \"\",  # Optional: you can provide your negative prompt here\n",
    "    # \"image\": <file_path>, # Optional: Provide path to image if you're using img2img or inpaint mode\n",
    "    # \"mask\": <file_path>,  # Optional: Provide path to mask for inpaint mode\n",
    "    \"width\": 1024,\n",
    "    \"height\": 1024,\n",
    "    \"num_outputs\": 1,\n",
    "    \"scheduler\": \"K_EULER\",\n",
    "    \"num_inference_steps\": 50,\n",
    "    \"guidance_scale\": 7.5,\n",
    "    \"prompt_strength\": 0.8,\n",
    "    # \"seed\": <integer_value>, # Optional: Provide specific seed value or leave it to get randomized\n",
    "    \"refine\": \"no_refiner\",\n",
    "    \"high_noise_frac\": 0.8,\n",
    "    # \"refine_steps\": <integer_value>, # Optional: Provide specific refine steps or default to num_inference_steps\n",
    "    \"apply_watermark\": True,  # Set to False if you don't want watermarking\n",
    "    \"lora_scale\": 0.6\n",
    "}\n",
    "\n",
    "output = replicate.run(\n",
    "    \"adynblaed/embersteel-sdxl-cerephelo:4d9f72ffcc44453fc265d913892e3b003dc74952b0f1eb64ec5c94973927f830\",\n",
    "    input=params\n",
    ")\n",
    "\n",
    "print(output)"
   ]
  },
  {
   "cell_type": "markdown",
   "metadata": {},
   "source": [
    "### Cerephelo Embersteel Prompt #1: Items"
   ]
  },
  {
   "cell_type": "code",
   "execution_count": null,
   "metadata": {},
   "outputs": [],
   "source": [
    "from IPython.display import Image\n",
    "Image(url=output[0])"
   ]
  }
 ],
 "metadata": {
  "kernelspec": {
   "display_name": "Python 3",
   "language": "python",
   "name": "python3"
  },
  "language_info": {
   "codemirror_mode": {
    "name": "ipython",
    "version": 3
   },
   "file_extension": ".py",
   "mimetype": "text/x-python",
   "name": "python",
   "nbconvert_exporter": "python",
   "pygments_lexer": "ipython3",
   "version": "3.11.4"
  },
  "orig_nbformat": 4
 },
 "nbformat": 4,
 "nbformat_minor": 2
}
