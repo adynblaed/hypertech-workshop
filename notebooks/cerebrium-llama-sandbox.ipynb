{
 "cells": [
  {
   "cell_type": "code",
   "execution_count": 1,
   "metadata": {},
   "outputs": [
    {
     "name": "stdout",
     "output_type": "stream",
     "text": [
      "Requirement already satisfied: requests in c:\\users\\adyn\\appdata\\local\\programs\\python\\python311\\lib\\site-packages (2.31.0)\n",
      "Requirement already satisfied: charset-normalizer<4,>=2 in c:\\users\\adyn\\appdata\\local\\programs\\python\\python311\\lib\\site-packages (from requests) (3.2.0)\n",
      "Requirement already satisfied: idna<4,>=2.5 in c:\\users\\adyn\\appdata\\local\\programs\\python\\python311\\lib\\site-packages (from requests) (3.4)\n",
      "Requirement already satisfied: urllib3<3,>=1.21.1 in c:\\users\\adyn\\appdata\\local\\programs\\python\\python311\\lib\\site-packages (from requests) (1.26.16)\n",
      "Requirement already satisfied: certifi>=2017.4.17 in c:\\users\\adyn\\appdata\\local\\programs\\python\\python311\\lib\\site-packages (from requests) (2023.7.22)\n"
     ]
    },
    {
     "name": "stderr",
     "output_type": "stream",
     "text": [
      "DEPRECATION: torchsde 0.2.5 has a non-standard dependency specifier numpy>=1.19.*; python_version >= \"3.7\". pip 23.3 will enforce this behaviour change. A possible replacement is to upgrade to a newer version of torchsde or contact the author to suggest that they release a version with a conforming dependency specifiers. Discussion can be found at https://github.com/pypa/pip/issues/12063\n"
     ]
    }
   ],
   "source": [
    "%pip install requests"
   ]
  },
  {
   "cell_type": "code",
   "execution_count": 3,
   "metadata": {},
   "outputs": [
    {
     "name": "stdout",
     "output_type": "stream",
     "text": [
      "{'run_id': '606c7376-6cce-4bc9-8d83-3e2277c17ccf', 'run_time_ms': 1561.6462230682373, 'message': 'Ran successfully', 'result': [{'generated_text': \"How are you today?\\nI'm doing well, thankyou for asking! It was a lovely surprise to see your message pop up on my screen. I hope everything is going great with ya too 😊\"}]}\n",
      "Run ID: 606c7376-6cce-4bc9-8d83-3e2277c17ccf\n",
      "Run Time (ms): 1561.6462230682373\n",
      "Message: Ran successfully\n",
      "Generated Texts:\n",
      "1. How are you today?\n",
      "I'm doing well, thankyou for asking! It was a lovely surprise to see your message pop up on my screen. I hope everything is going great with ya too 😊\n",
      "\n"
     ]
    }
   ],
   "source": [
    "import requests\n",
    "import json\n",
    "\n",
    "def call_api(prompt_text):\n",
    "    # Endpoint URL\n",
    "    url = 'https://run.cerebrium.ai/llamav2-7b-chat-webhook/predict'\n",
    "    \n",
    "    # Headers\n",
    "    headers = {\n",
    "        'Authorization': 'public-2a7727a7f96aaf752b44',  # replace <API_KEY> with your actual API key\n",
    "        'Content-Type': 'application/json'\n",
    "    }\n",
    "    \n",
    "    # Payload (data to be sent)\n",
    "    payload = {\n",
    "        \"prompt\": prompt_text,\n",
    "        \"max_length\": 200,\n",
    "        \"temperature\": 1,\n",
    "        \"top_p\": 1.0,\n",
    "        \"top_k\": 10,\n",
    "        \"num_return_sequences\": 1,\n",
    "        \"repetition_penalty\": 2.0\n",
    "    }\n",
    "    \n",
    "    # Make the POST request\n",
    "    response = requests.post(url, headers=headers, data=json.dumps(payload))\n",
    "    \n",
    "    # Return the response (optional: you can also process it further if needed)\n",
    "    return response.json()\n",
    "\n",
    "def format_response(response_data):\n",
    "    \"\"\"\n",
    "    Formats the API response for better readability.\n",
    "\n",
    "    Args:\n",
    "    - response_data (dict): The raw API response data.\n",
    "\n",
    "    Returns:\n",
    "    - str: Formatted string.\n",
    "    \"\"\"\n",
    "    \n",
    "    # Extract relevant fields\n",
    "    run_id = response_data.get('run_id', 'N/A')\n",
    "    run_time = response_data.get('run_time_ms', 'N/A')\n",
    "    message = response_data.get('message', 'N/A')\n",
    "    generated_text_list = [item.get('generated_text', 'N/A') for item in response_data.get('result', [])]\n",
    "    \n",
    "    # Format the response\n",
    "    formatted_response = f\"Run ID: {run_id}\\n\" \\\n",
    "                         f\"Run Time (ms): {run_time}\\n\" \\\n",
    "                         f\"Message: {message}\\n\" \\\n",
    "                         \"Generated Texts:\\n\"\n",
    "                         \n",
    "    for idx, text in enumerate(generated_text_list, start=1):\n",
    "        formatted_response += f\"{idx}. {text}\\n\"\n",
    "    \n",
    "    return formatted_response\n",
    "\n",
    "# Example usage:\n",
    "response_data = call_api(\"How are you today?\")\n",
    "print(response_data)\n",
    "\n",
    "formatted_text = format_response(response_data)\n",
    "print(formatted_text)\n"
   ]
  },
  {
   "cell_type": "code",
   "execution_count": null,
   "metadata": {},
   "outputs": [],
   "source": [
    "from cerebrium import Conduit, model_type, hardware\n",
    "\n",
    "c = Conduit(('<MODEL_TYPE>', '<MODEL_FILE>'), 'meta-llama/Llama-2-7b', 'private-772b5465b01e3cdd9da8', 'hardware.AMPERE_A5000')\n",
    "\n",
    "c.deploy()"
   ]
  }
 ],
 "metadata": {
  "kernelspec": {
   "display_name": "Python 3",
   "language": "python",
   "name": "python3"
  },
  "language_info": {
   "codemirror_mode": {
    "name": "ipython",
    "version": 3
   },
   "file_extension": ".py",
   "mimetype": "text/x-python",
   "name": "python",
   "nbconvert_exporter": "python",
   "pygments_lexer": "ipython3",
   "version": "3.11.4"
  },
  "orig_nbformat": 4
 },
 "nbformat": 4,
 "nbformat_minor": 2
}
