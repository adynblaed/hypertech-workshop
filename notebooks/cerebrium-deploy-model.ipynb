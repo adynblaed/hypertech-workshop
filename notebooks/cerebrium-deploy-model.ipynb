{
 "cells": [
  {
   "cell_type": "code",
   "execution_count": null,
   "metadata": {},
   "outputs": [],
   "source": [
    "from cerebrium import Conduit, model_type, hardware\n",
    "\n",
    "c = Conduit(('<MODEL_TYPE>', '<MODEL_FILE>'), 'meta-llama/Llama-2-7b', '{KEY}', 'hardware.AMPERE_A5000')\n",
    "\n",
    "c.deploy()"
   ]
  }
 ],
 "metadata": {
  "kernelspec": {
   "display_name": "Python 3",
   "language": "python",
   "name": "python3"
  },
  "language_info": {
   "codemirror_mode": {
    "name": "ipython",
    "version": 3
   },
   "file_extension": ".py",
   "mimetype": "text/x-python",
   "name": "python",
   "nbconvert_exporter": "python",
   "pygments_lexer": "ipython3",
   "version": "3.11.4"
  },
  "orig_nbformat": 4
 },
 "nbformat": 4,
 "nbformat_minor": 2
}
