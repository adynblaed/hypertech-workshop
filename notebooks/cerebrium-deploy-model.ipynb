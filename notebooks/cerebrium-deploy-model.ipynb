{
 "cells": [
  {
   "cell_type": "code",
   "execution_count": 1,
   "metadata": {},
   "outputs": [
    {
     "ename": "TypeError",
     "evalue": "expected string or bytes-like object, got 'tuple'",
     "output_type": "error",
     "traceback": [
      "\u001b[1;31m---------------------------------------------------------------------------\u001b[0m",
      "\u001b[1;31mTypeError\u001b[0m                                 Traceback (most recent call last)",
      "Cell \u001b[1;32mIn[1], line 3\u001b[0m\n\u001b[0;32m      1\u001b[0m \u001b[39mfrom\u001b[39;00m \u001b[39mcerebrium\u001b[39;00m \u001b[39mimport\u001b[39;00m Conduit, model_type, hardware\n\u001b[1;32m----> 3\u001b[0m c \u001b[39m=\u001b[39m Conduit((\u001b[39m'\u001b[39;49m\u001b[39m<MODEL_TYPE>\u001b[39;49m\u001b[39m'\u001b[39;49m, \u001b[39m'\u001b[39;49m\u001b[39m<MODEL_FILE>\u001b[39;49m\u001b[39m'\u001b[39;49m), \u001b[39m'\u001b[39;49m\u001b[39mmeta-llama/Llama-2-7b\u001b[39;49m\u001b[39m'\u001b[39;49m, \u001b[39m'\u001b[39;49m\u001b[39mprivate-772b5465b01e3cdd9da8\u001b[39;49m\u001b[39m'\u001b[39;49m, \u001b[39m'\u001b[39;49m\u001b[39mhardware.AMPERE_A5000\u001b[39;49m\u001b[39m'\u001b[39;49m)\n\u001b[0;32m      5\u001b[0m c\u001b[39m.\u001b[39mdeploy()\n",
      "File \u001b[1;32mc:\\Users\\adyn\\AppData\\Local\\Programs\\Python\\Python311\\Lib\\site-packages\\cerebrium\\conduit.py:74\u001b[0m, in \u001b[0;36mConduit.__init__\u001b[1;34m(self, name, api_key, flow, hardware, cpu, memory, python_version, from_json, requirements_file, min_replicas, max_replicas, force_rebuild)\u001b[0m\n\u001b[0;32m     72\u001b[0m \u001b[39mif\u001b[39;00m \u001b[39mlen\u001b[39m(name) \u001b[39m>\u001b[39m \u001b[39m20\u001b[39m:\n\u001b[0;32m     73\u001b[0m     \u001b[39mraise\u001b[39;00m \u001b[39mValueError\u001b[39;00m(\u001b[39m\"\u001b[39m\u001b[39mConduit name must be less than 20 characters\u001b[39m\u001b[39m\"\u001b[39m)\n\u001b[1;32m---> 74\u001b[0m \u001b[39mif\u001b[39;00m \u001b[39mnot\u001b[39;00m \u001b[39mbool\u001b[39m(re\u001b[39m.\u001b[39;49mmatch(REGEX_NAME_PATTERN, name)):\n\u001b[0;32m     75\u001b[0m     \u001b[39mraise\u001b[39;00m \u001b[39mValueError\u001b[39;00m(\n\u001b[0;32m     76\u001b[0m         \u001b[39m\"\u001b[39m\u001b[39mConduit name can only contain lowercase alphanumeric characters and hyphens\u001b[39m\u001b[39m\"\u001b[39m\n\u001b[0;32m     77\u001b[0m     )\n\u001b[0;32m     78\u001b[0m \u001b[39mself\u001b[39m\u001b[39m.\u001b[39mname \u001b[39m=\u001b[39m name\n",
      "File \u001b[1;32mc:\\Users\\adyn\\AppData\\Local\\Programs\\Python\\Python311\\Lib\\re\\__init__.py:166\u001b[0m, in \u001b[0;36mmatch\u001b[1;34m(pattern, string, flags)\u001b[0m\n\u001b[0;32m    163\u001b[0m \u001b[39mdef\u001b[39;00m \u001b[39mmatch\u001b[39m(pattern, string, flags\u001b[39m=\u001b[39m\u001b[39m0\u001b[39m):\n\u001b[0;32m    164\u001b[0m \u001b[39m    \u001b[39m\u001b[39m\"\"\"Try to apply the pattern at the start of the string, returning\u001b[39;00m\n\u001b[0;32m    165\u001b[0m \u001b[39m    a Match object, or None if no match was found.\"\"\"\u001b[39;00m\n\u001b[1;32m--> 166\u001b[0m     \u001b[39mreturn\u001b[39;00m _compile(pattern, flags)\u001b[39m.\u001b[39;49mmatch(string)\n",
      "\u001b[1;31mTypeError\u001b[0m: expected string or bytes-like object, got 'tuple'"
     ]
    }
   ],
   "source": [
    "from cerebrium import Conduit, model_type, hardware\n",
    "\n",
    "c = Conduit(('<MODEL_TYPE>', '<MODEL_FILE>'), 'meta-llama/Llama-2-7b', 'private-772b5465b01e3cdd9da8', 'hardware.AMPERE_A5000')\n",
    "\n",
    "c.deploy()"
   ]
  }
 ],
 "metadata": {
  "kernelspec": {
   "display_name": "Python 3",
   "language": "python",
   "name": "python3"
  },
  "language_info": {
   "codemirror_mode": {
    "name": "ipython",
    "version": 3
   },
   "file_extension": ".py",
   "mimetype": "text/x-python",
   "name": "python",
   "nbconvert_exporter": "python",
   "pygments_lexer": "ipython3",
   "version": "3.11.4"
  },
  "orig_nbformat": 4
 },
 "nbformat": 4,
 "nbformat_minor": 2
}
