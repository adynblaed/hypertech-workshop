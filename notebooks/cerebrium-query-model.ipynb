{
 "cells": [
  {
   "cell_type": "code",
   "execution_count": 9,
   "metadata": {},
   "outputs": [
    {
     "name": "stdout",
     "output_type": "stream",
     "text": [
      "Requirement already satisfied: requests in c:\\users\\adyn\\appdata\\local\\programs\\python\\python311\\lib\\site-packages (2.31.0)\n",
      "Requirement already satisfied: charset-normalizer<4,>=2 in c:\\users\\adyn\\appdata\\local\\programs\\python\\python311\\lib\\site-packages (from requests) (3.2.0)\n",
      "Requirement already satisfied: idna<4,>=2.5 in c:\\users\\adyn\\appdata\\local\\programs\\python\\python311\\lib\\site-packages (from requests) (3.4)\n",
      "Requirement already satisfied: urllib3<3,>=1.21.1 in c:\\users\\adyn\\appdata\\local\\programs\\python\\python311\\lib\\site-packages (from requests) (1.26.16)\n",
      "Requirement already satisfied: certifi>=2017.4.17 in c:\\users\\adyn\\appdata\\local\\programs\\python\\python311\\lib\\site-packages (from requests) (2023.7.22)\n"
     ]
    },
    {
     "name": "stderr",
     "output_type": "stream",
     "text": [
      "DEPRECATION: torchsde 0.2.5 has a non-standard dependency specifier numpy>=1.19.*; python_version >= \"3.7\". pip 23.3 will enforce this behaviour change. A possible replacement is to upgrade to a newer version of torchsde or contact the author to suggest that they release a version with a conforming dependency specifiers. Discussion can be found at https://github.com/pypa/pip/issues/12063\n"
     ]
    }
   ],
   "source": [
    "!pip install requests"
   ]
  },
  {
   "cell_type": "code",
   "execution_count": 10,
   "metadata": {},
   "outputs": [
    {
     "name": "stdout",
     "output_type": "stream",
     "text": [
      "Requirement already satisfied: cerebrium in c:\\users\\adyn\\appdata\\local\\programs\\python\\python311\\lib\\site-packages (1.5.4)\n",
      "Requirement already satisfied: cloudpickle>=2.2 in c:\\users\\adyn\\appdata\\local\\programs\\python\\python311\\lib\\site-packages (from cerebrium) (2.2.1)\n",
      "Requirement already satisfied: jsonschema>=4.18.4 in c:\\users\\adyn\\appdata\\local\\programs\\python\\python311\\lib\\site-packages (from cerebrium) (4.18.6)\n",
      "Requirement already satisfied: loguru>=0.7 in c:\\users\\adyn\\appdata\\local\\programs\\python\\python311\\lib\\site-packages (from cerebrium) (0.7.0)\n",
      "Requirement already satisfied: prodict<0.9.0,>=0.8.18 in c:\\users\\adyn\\appdata\\local\\programs\\python\\python311\\lib\\site-packages (from cerebrium) (0.8.18)\n",
      "Requirement already satisfied: pyyaml<7.0,>=6.0 in c:\\users\\adyn\\appdata\\local\\programs\\python\\python311\\lib\\site-packages (from cerebrium) (6.0.1)\n",
      "Requirement already satisfied: requests<3.0,>=2.30 in c:\\users\\adyn\\appdata\\local\\programs\\python\\python311\\lib\\site-packages (from cerebrium) (2.31.0)\n",
      "Requirement already satisfied: tenacity<8.3,>=8.2 in c:\\users\\adyn\\appdata\\local\\programs\\python\\python311\\lib\\site-packages (from cerebrium) (8.2.2)\n",
      "Requirement already satisfied: tqdm<4.65,>=4.64 in c:\\users\\adyn\\appdata\\local\\programs\\python\\python311\\lib\\site-packages (from cerebrium) (4.64.1)\n",
      "Requirement already satisfied: typer[all]>=0.7.0 in c:\\users\\adyn\\appdata\\local\\programs\\python\\python311\\lib\\site-packages (from cerebrium) (0.9.0)\n",
      "Requirement already satisfied: typing_extensions>=3.6.6 in c:\\users\\adyn\\appdata\\local\\programs\\python\\python311\\lib\\site-packages (from cerebrium) (4.5.0)\n",
      "Requirement already satisfied: yaspin<2.4,>=2.3 in c:\\users\\adyn\\appdata\\local\\programs\\python\\python311\\lib\\site-packages (from cerebrium) (2.3.0)\n",
      "Requirement already satisfied: attrs>=22.2.0 in c:\\users\\adyn\\appdata\\local\\programs\\python\\python311\\lib\\site-packages (from jsonschema>=4.18.4->cerebrium) (23.1.0)\n",
      "Requirement already satisfied: jsonschema-specifications>=2023.03.6 in c:\\users\\adyn\\appdata\\local\\programs\\python\\python311\\lib\\site-packages (from jsonschema>=4.18.4->cerebrium) (2023.7.1)\n",
      "Requirement already satisfied: referencing>=0.28.4 in c:\\users\\adyn\\appdata\\local\\programs\\python\\python311\\lib\\site-packages (from jsonschema>=4.18.4->cerebrium) (0.30.0)\n",
      "Requirement already satisfied: rpds-py>=0.7.1 in c:\\users\\adyn\\appdata\\local\\programs\\python\\python311\\lib\\site-packages (from jsonschema>=4.18.4->cerebrium) (0.9.2)\n",
      "Requirement already satisfied: colorama>=0.3.4 in c:\\users\\adyn\\appdata\\local\\programs\\python\\python311\\lib\\site-packages (from loguru>=0.7->cerebrium) (0.4.6)\n",
      "Requirement already satisfied: win32-setctime>=1.0.0 in c:\\users\\adyn\\appdata\\local\\programs\\python\\python311\\lib\\site-packages (from loguru>=0.7->cerebrium) (1.1.0)\n",
      "Requirement already satisfied: charset-normalizer<4,>=2 in c:\\users\\adyn\\appdata\\local\\programs\\python\\python311\\lib\\site-packages (from requests<3.0,>=2.30->cerebrium) (3.2.0)\n",
      "Requirement already satisfied: idna<4,>=2.5 in c:\\users\\adyn\\appdata\\local\\programs\\python\\python311\\lib\\site-packages (from requests<3.0,>=2.30->cerebrium) (3.4)\n",
      "Requirement already satisfied: urllib3<3,>=1.21.1 in c:\\users\\adyn\\appdata\\local\\programs\\python\\python311\\lib\\site-packages (from requests<3.0,>=2.30->cerebrium) (1.26.16)\n",
      "Requirement already satisfied: certifi>=2017.4.17 in c:\\users\\adyn\\appdata\\local\\programs\\python\\python311\\lib\\site-packages (from requests<3.0,>=2.30->cerebrium) (2023.7.22)\n",
      "Requirement already satisfied: click<9.0.0,>=7.1.1 in c:\\users\\adyn\\appdata\\local\\programs\\python\\python311\\lib\\site-packages (from typer[all]>=0.7.0->cerebrium) (8.1.6)\n",
      "Requirement already satisfied: shellingham<2.0.0,>=1.3.0 in c:\\users\\adyn\\appdata\\local\\programs\\python\\python311\\lib\\site-packages (from typer[all]>=0.7.0->cerebrium) (1.5.3)\n",
      "Requirement already satisfied: rich<14.0.0,>=10.11.0 in c:\\users\\adyn\\appdata\\local\\programs\\python\\python311\\lib\\site-packages (from typer[all]>=0.7.0->cerebrium) (13.5.2)\n",
      "Requirement already satisfied: termcolor<3.0,>=2.2 in c:\\users\\adyn\\appdata\\local\\programs\\python\\python311\\lib\\site-packages (from yaspin<2.4,>=2.3->cerebrium) (2.3.0)\n",
      "Requirement already satisfied: markdown-it-py>=2.2.0 in c:\\users\\adyn\\appdata\\local\\programs\\python\\python311\\lib\\site-packages (from rich<14.0.0,>=10.11.0->typer[all]>=0.7.0->cerebrium) (3.0.0)\n",
      "Requirement already satisfied: pygments<3.0.0,>=2.13.0 in c:\\users\\adyn\\appdata\\local\\programs\\python\\python311\\lib\\site-packages (from rich<14.0.0,>=10.11.0->typer[all]>=0.7.0->cerebrium) (2.15.1)\n",
      "Requirement already satisfied: mdurl~=0.1 in c:\\users\\adyn\\appdata\\local\\programs\\python\\python311\\lib\\site-packages (from markdown-it-py>=2.2.0->rich<14.0.0,>=10.11.0->typer[all]>=0.7.0->cerebrium) (0.1.2)\n",
      "Note: you may need to restart the kernel to use updated packages.\n"
     ]
    },
    {
     "name": "stderr",
     "output_type": "stream",
     "text": [
      "DEPRECATION: torchsde 0.2.5 has a non-standard dependency specifier numpy>=1.19.*; python_version >= \"3.7\". pip 23.3 will enforce this behaviour change. A possible replacement is to upgrade to a newer version of torchsde or contact the author to suggest that they release a version with a conforming dependency specifiers. Discussion can be found at https://github.com/pypa/pip/issues/12063\n"
     ]
    }
   ],
   "source": [
    "pip install --upgrade cerebrium"
   ]
  },
  {
   "cell_type": "code",
   "execution_count": 6,
   "metadata": {},
   "outputs": [
    {
     "name": "stdout",
     "output_type": "stream",
     "text": [
      "{\"run_id\":\"42be2ef3-3be8-4aaf-b6fb-68162377b028\",\"message\":\"Finished inference request with run_id: `42be2ef3-3be8-4aaf-b6fb-68162377b028`\",\"result\":{\"result\":[{\"generated_text\":\"Why are you?\\n\\nI'm a little bit confused about the word \\\"soul\\\" in this sentence. I'm not sure what the word means in this sentence.\\n\\nI'm a little bit confused about the word \\\"soul\\\" in this sentence. I'm not sure what the word means in this sentence.\\n\\nI'm a little bit confused about the word \\\"soul\\\" in this sentence. I'm not sure what the word means in this sentence.\\n\\nI'm a little bit\"}],\"prediction_ids\":[\"ce2ec80613ea40e9b77e88eade5e3995\",\"c73c4c31260647058ae327a9522cad64\"]},\"run_time_ms\":698.6494064331055}\n"
     ]
    }
   ],
   "source": [
    "import requests\n",
    "import json\n",
    "\n",
    "def cerebrium_hf_gpt_predict(data, parameters):\n",
    "    \"\"\"\n",
    "    Send a POST request to the Cerebrium API to get hf-gpt predictions.\n",
    "\n",
    "    Parameters:\n",
    "    - query (str): The data for prediction/query/chat completion.\n",
    "    - parameters (dict): Additional parameters for the prediction.\n",
    "\n",
    "    Returns:\n",
    "    - str: Response text from the API.\n",
    "    \"\"\"\n",
    "\n",
    "    # Define the endpoint, headers, and payload.\n",
    "    url = \"https://run.cerebrium.ai/v3/p-2448d3f5/hf-gpt/predict\"\n",
    "    headers = {\n",
    "        'Authorization': '{KEY}',\n",
    "        'Content-Type': 'application/json'\n",
    "    }\n",
    "    payload = json.dumps({\n",
    "        \"data\": data,\n",
    "        \"parameters\": parameters\n",
    "    })\n",
    "\n",
    "    # Make the request and return the response text.\n",
    "    response = requests.post(url, headers=headers, data=payload)\n",
    "    return response.text\n",
    "\n",
    "# Example usage:\n",
    "data = \"Why are you?\"\n",
    "parameters = {\"max_new_tokens\": 100}\n",
    "response_text = cerebrium_hf_gpt_predict(data, parameters)\n",
    "print(response_text)\n"
   ]
  }
 ],
 "metadata": {
  "kernelspec": {
   "display_name": "Python 3",
   "language": "python",
   "name": "python3"
  },
  "language_info": {
   "codemirror_mode": {
    "name": "ipython",
    "version": 3
   },
   "file_extension": ".py",
   "mimetype": "text/x-python",
   "name": "python",
   "nbconvert_exporter": "python",
   "pygments_lexer": "ipython3",
   "version": "3.11.4"
  },
  "orig_nbformat": 4
 },
 "nbformat": 4,
 "nbformat_minor": 2
}
