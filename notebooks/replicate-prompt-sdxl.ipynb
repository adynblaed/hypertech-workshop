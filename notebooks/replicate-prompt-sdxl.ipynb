{
 "cells": [
  {
   "cell_type": "code",
   "execution_count": null,
   "metadata": {},
   "outputs": [],
   "source": [
    "%pip install replicate"
   ]
  },
  {
   "cell_type": "code",
   "execution_count": null,
   "metadata": {},
   "outputs": [],
   "source": [
    "import os\n",
    "os.environ[\"REPLICATE_API_TOKEN\"] = \"r8_H8D9jHuDkKodPJVGvSZNLPxvWk8Qf7g4b67fR\""
   ]
  },
  {
   "cell_type": "markdown",
   "metadata": {},
   "source": [
    "## adynblaed/embersteel-sdxl-andraxus\n",
    "\n",
    "---\n",
    "\n"
   ]
  },
  {
   "cell_type": "code",
   "execution_count": null,
   "metadata": {},
   "outputs": [],
   "source": [
    "import replicate\n",
    "import os\n",
    "\n",
    "andraxus_sdxl_prompt = \"embersteel ultra detailed, vast, top-down, retro open-world, hyper-realistic, 16-bit, sci-fi RPG video game background wallpaper, flat 2D grid, radiant machine glade and meadows level, open region flat grid map\"\n",
    "\n",
    "# Set the input parameters as specified in the documentation\n",
    "params = {\n",
    "    \"prompt\": andraxus_sdxl_prompt,  \n",
    "    \"negative_prompt\": \"\",  # Optional: you can provide your negative prompt here\n",
    "    # \"image\": <file_path>, # Optional: Provide path to image if you're using img2img or inpaint mode\n",
    "    # \"mask\": <file_path>,  # Optional: Provide path to mask for inpaint mode\n",
    "    \"width\": 1920,\n",
    "    \"height\": 1080,\n",
    "    \"num_outputs\": 1,\n",
    "    \"scheduler\": \"K_EULER\",\n",
    "    \"num_inference_steps\": 50,\n",
    "    \"guidance_scale\": 7.5,\n",
    "    \"prompt_strength\": 0.8,\n",
    "    # \"seed\": <integer_value>, # Optional: Provide specific seed value or leave it to get randomized\n",
    "    \"refine\": \"no_refiner\",\n",
    "    \"high_noise_frac\": 0.8,\n",
    "    # \"refine_steps\": <integer_value>, # Optional: Provide specific refine steps or default to num_inference_steps\n",
    "    \"apply_watermark\": True,  # Set to False if you don't want watermarking\n",
    "    \"lora_scale\": 0.6\n",
    "}\n",
    "\n",
    "output = replicate.run(\n",
    "    \"adynblaed/embersteel-sdxl-andraxus:65c8c8fc046831fd5614ffe7f9c70ba83fb14fca00b3b8d347bdc9dadd3ed29d\",\n",
    "    input=params\n",
    ")\n",
    "\n",
    "print(output)"
   ]
  },
  {
   "cell_type": "markdown",
   "metadata": {},
   "source": [
    "### Andraxus Example #1: Radiant Forest Region Map\n",
    "\n",
    "---"
   ]
  },
  {
   "cell_type": "code",
   "execution_count": null,
   "metadata": {},
   "outputs": [],
   "source": [
    "from IPython.display import Image\n",
    "Image(url=output[0])"
   ]
  },
  {
   "cell_type": "markdown",
   "metadata": {},
   "source": [
    "## adynblaed/embersteel-sdxl-biazera\n",
    "\n",
    "---"
   ]
  },
  {
   "cell_type": "code",
   "execution_count": null,
   "metadata": {},
   "outputs": [],
   "source": [
    "import replicate\n",
    "import os\n",
    "\n",
    "biazera_sdxl_prompt = \"embersteel ultra detailed, retro, hyper-realistic, 16-bit, cyborg desert wizard lizard merchant outlaw, surreal survivor mercenary RPG character concept art\"\n",
    "\n",
    "# Set the input parameters as specified in the documentation\n",
    "params = {\n",
    "    \"prompt\": biazera_sdxl_prompt,  \n",
    "    \"negative_prompt\": \"\",  # Optional: you can provide your negative prompt here\n",
    "    # \"image\": <file_path>, # Optional: Provide path to image if you're using img2img or inpaint mode\n",
    "    # \"mask\": <file_path>,  # Optional: Provide path to mask for inpaint mode\n",
    "    \"width\": 1024,\n",
    "    \"height\": 1024,\n",
    "    \"num_outputs\": 1,\n",
    "    \"scheduler\": \"K_EULER\",\n",
    "    \"num_inference_steps\": 50,\n",
    "    \"guidance_scale\": 7.5,\n",
    "    \"prompt_strength\": 0.8,\n",
    "    # \"seed\": <integer_value>, # Optional: Provide specific seed value or leave it to get randomized\n",
    "    \"refine\": \"no_refiner\",\n",
    "    \"high_noise_frac\": 0.8,\n",
    "    # \"refine_steps\": <integer_value>, # Optional: Provide specific refine steps or default to num_inference_steps\n",
    "    \"apply_watermark\": True,  # Set to False if you don't want watermarking\n",
    "    \"lora_scale\": 0.6\n",
    "}\n",
    "\n",
    "output = replicate.run(\n",
    "    \"adynblaed/embersteel-sdxl-biazera:dec66fc3eb481387331adf6f273bc4828468762dd5da97d9e6f3ec412cb50249\",\n",
    "    input=params\n",
    ")\n",
    "\n",
    "print(output)"
   ]
  },
  {
   "cell_type": "markdown",
   "metadata": {},
   "source": [
    "### Biazera Example #1: Lizard Outlaw Character\n",
    "\n",
    "---"
   ]
  },
  {
   "cell_type": "code",
   "execution_count": null,
   "metadata": {},
   "outputs": [],
   "source": [
    "from IPython.display import Image\n",
    "Image(url=output[0])"
   ]
  },
  {
   "cell_type": "markdown",
   "metadata": {},
   "source": [
    "## adynblaed/embersteel-sdxl-cerephelo\n",
    "\n",
    "---"
   ]
  },
  {
   "cell_type": "code",
   "execution_count": null,
   "metadata": {},
   "outputs": [],
   "source": [
    "import replicate\n",
    "import os\n",
    "\n",
    "cerephelo_sdxl_prompt = \"embersteel ultra detailed, retro, hyper-realistic, 16-bit, post-apocalyptic mecha sci-fi gun sword inventory item icon, 2D horizontal side-view, guns and cogsword equipment icons, indie game sprite sheet, flat 2D\"\n",
    "\n",
    "# Set the input parameters as specified in the documentation\n",
    "params = {\n",
    "    \"prompt\": cerephelo_sdxl_prompt,  \n",
    "    \"negative_prompt\": \"\",  # Optional: you can provide your negative prompt here\n",
    "    # \"image\": <file_path>, # Optional: Provide path to image if you're using img2img or inpaint mode\n",
    "    # \"mask\": <file_path>,  # Optional: Provide path to mask for inpaint mode\n",
    "    \"width\": 1024,\n",
    "    \"height\": 1024,\n",
    "    \"num_outputs\": 1,\n",
    "    \"scheduler\": \"K_EULER\",\n",
    "    \"num_inference_steps\": 50,\n",
    "    \"guidance_scale\": 7.5,\n",
    "    \"prompt_strength\": 0.8,\n",
    "    # \"seed\": <integer_value>, # Optional: Provide specific seed value or leave it to get randomized\n",
    "    \"refine\": \"no_refiner\",\n",
    "    \"high_noise_frac\": 0.8,\n",
    "    # \"refine_steps\": <integer_value>, # Optional: Provide specific refine steps or default to num_inference_steps\n",
    "    \"apply_watermark\": True,  # Set to False if you don't want watermarking\n",
    "    \"lora_scale\": 0.6\n",
    "}\n",
    "\n",
    "output = replicate.run(\n",
    "    \"adynblaed/embersteel-sdxl-cerephelo:4d9f72ffcc44453fc265d913892e3b003dc74952b0f1eb64ec5c94973927f830\",\n",
    "    input=params\n",
    ")\n",
    "\n",
    "print(output)"
   ]
  },
  {
   "cell_type": "markdown",
   "metadata": {},
   "source": [
    "### Cerephelo Example #1: Vehicle Item Entity"
   ]
  },
  {
   "cell_type": "code",
   "execution_count": null,
   "metadata": {},
   "outputs": [],
   "source": [
    "from IPython.display import Image\n",
    "Image(url=output[0])"
   ]
  }
 ],
 "metadata": {
  "kernelspec": {
   "display_name": "Python 3",
   "language": "python",
   "name": "python3"
  },
  "language_info": {
   "codemirror_mode": {
    "name": "ipython",
    "version": 3
   },
   "file_extension": ".py",
   "mimetype": "text/x-python",
   "name": "python",
   "nbconvert_exporter": "python",
   "pygments_lexer": "ipython3",
   "version": "3.11.4"
  },
  "orig_nbformat": 4
 },
 "nbformat": 4,
 "nbformat_minor": 2
}
