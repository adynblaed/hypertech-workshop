{
 "cells": [
  {
   "cell_type": "markdown",
   "metadata": {},
   "source": [
    "# Embersteel SDXL Promptbook\n",
    "\n",
    "- https://replicate.com/docs/guides/push-stable-diffusion#intro"
   ]
  },
  {
   "cell_type": "code",
   "execution_count": null,
   "metadata": {},
   "outputs": [],
   "source": [
    "%pip install replicate"
   ]
  },
  {
   "cell_type": "code",
   "execution_count": null,
   "metadata": {},
   "outputs": [],
   "source": [
    "import os\n",
    "os.environ[\"REPLICATE_API_TOKEN\"] = \"{KEY}\""
   ]
  },
  {
   "cell_type": "markdown",
   "metadata": {},
   "source": [
    "## adynblaed/embersteel-sdxl-andraxus\n",
    "\n",
    "---\n",
    "\n"
   ]
  },
  {
   "cell_type": "code",
   "execution_count": null,
   "metadata": {},
   "outputs": [],
   "source": [
    "import replicate\n",
    "import os\n",
    "\n",
    "andraxus_sdxl_prompt = \"16-bit, retro, embersteel video game wallpaper, cinematic machine forest lab grand, epic, factory city tree house workshop in the middle of a post apocalpytic aesthetic rustpunk, cogpunk, mystic cold steel blue, wide open meadow glade surrounded by desert dirt patches, trees and mountains, 4k HD RPG embersteel wallpaper 2D RPG roguelike platformer level backgrounds.\"\n",
    "\n",
    "# Set the input parameters as specified in the documentation\n",
    "params = {\n",
    "    \"prompt\": andraxus_sdxl_prompt,  \n",
    "    \"negative_prompt\": \"\",  # Optional: you can provide your negative prompt here\n",
    "    # \"image\": <file_path>, # Optional: Provide path to image if you're using img2img or inpaint mode\n",
    "    # \"mask\": <file_path>,  # Optional: Provide path to mask for inpaint mode\n",
    "    \"width\": 2160,\n",
    "    \"height\": 1440,\n",
    "    \"num_outputs\": 1,\n",
    "    \"scheduler\": \"K_EULER\",\n",
    "    \"num_inference_steps\": 50,\n",
    "    \"guidance_scale\": 7.5,\n",
    "    \"prompt_strength\": 0.8,\n",
    "    # \"seed\": <integer_value>, # Optional: Provide specific seed value or leave it to get randomized\n",
    "    \"refine\": \"no_refiner\",\n",
    "    \"high_noise_frac\": 0.8,\n",
    "    # \"refine_steps\": <integer_value>, # Optional: Provide specific refine steps or default to num_inference_steps\n",
    "    \"apply_watermark\": True,  # Set to False if you don't want watermarking\n",
    "    \"lora_scale\": 0.6\n",
    "}\n",
    "\n",
    "output = replicate.run(\n",
    "    \"adynblaed/embersteel-sdxl-andraxus:65c8c8fc046831fd5614ffe7f9c70ba83fb14fca00b3b8d347bdc9dadd3ed29d\",\n",
    "    input=params\n",
    ")\n",
    "\n",
    "print(output)"
   ]
  },
  {
   "cell_type": "code",
   "execution_count": null,
   "metadata": {},
   "outputs": [],
   "source": [
    "from IPython.display import Image\n",
    "Image(url=output[0])"
   ]
  },
  {
   "cell_type": "markdown",
   "metadata": {},
   "source": [
    "## `Andraxus Promptbook`\n",
    "\n",
    "---"
   ]
  },
  {
   "cell_type": "markdown",
   "metadata": {},
   "source": [
    "### `Quark's Lab`\n",
    "\n",
    "`Prompt`:\n",
    "\n",
    "- 16-bit, retro, embersteel video game wallpaper, cinematic machine forest lab grand, epic, factory city tree house workshop in the middle of a post apocalpytic aesthetic rustpunk, cogpunk, mystic cold steel blue, wide open meadow glade surrounded by desert dirt patches, trees and mountains, 4k HD RPG embersteel wallpaper 2D RPG roguelike platformer level backgrounds\n",
    "  \n",
    "`Negative Prompt`: \n",
    "\n",
    "- no people, no humans, no bad composition, no bad negative spacing, no bad placement, no bad aesthetics, no bad visuals\n",
    "\n",
    "### `Radiant Forest `\n",
    "\n",
    "`Prompt`:\n",
    "\n",
    "- 16-bit, retro, embersteel video game wallpaper, cinematic machine forest wallpaper, video game title screen the middle of a post apocalpytic aesthetic rustpunk, cogpunk, mystic cold steel blue, wide open meadow glade surrounded by desert dirt patches, trees and mountains, 4k HD RPG embersteel wallpaper 2D RPG roguelike Parallax world map region background\n",
    "\n",
    "`Negative Prompt`:\n",
    "  \n",
    "- no people, no humans, no characters, no bad composition, no bad negative spacing, no bad placement, no bad aesthetics, no bad visuals\n",
    "\n",
    "### `Radiant Scenes `\n",
    "\n",
    "`Prompt`:\n",
    "\n",
    "- 16-bit, retro, embersteel video game wallpaper, cinematic machine forest sprite asset sheet with white background, embersteel radiant forest trees and foliage assets on white background, post apocalpytic aesthetic rustpunk, cogpunk, meadow glade assets, individual desert dirt patches, mountains assets, 4k HD RPG retro embersteel 2D RPG roguelike Parallax sprite sheet assets\n",
    "\n",
    "`Prompt`:\n",
    "\n",
    "- 16-bit, retro, embersteel, modular embersteel sprite asset sheet with white background, embersteel radiant forest and video game foliage assets on white background, post apocalpytic aesthetic rustpunk, cogpunk, meadow glade assets, individual desert dirt patches, mountains assets, 4k HD RPG retro embersteel 2D RPG roguelike sprite sheet assets with white background, transparent background, spread out assets on a grid, white background, orthographic view\n",
    "\n",
    "`Prompt`:\n",
    "\n",
    "- 16-bit, retro, embersteel, modular embersteel sprite asset sheet with white background, embersteel radiant forest and video game overgrown embersteel workshops, mysterious buildings, on white background, post apocalpytic aesthetic rustpunk, cogpunk, surreal sci fi  gas station, roadside factory , workshop building assets, individual desert dirt patches, mountains assets, 4k HD RPG retro embersteel 2D RPG roguelike sprite sheet assets with white background, transparent background, spread out assets on a grid, white background, orthographic view\n",
    "\n",
    "`Prompt`:\n",
    "\n",
    "- 16-bit, retro, embersteel, modular embersteel sprite asset sheet with white background, embersteel radiant forest and video game overgrown embersteel the grand mysterious tree, giant machine tree factory house, on white background, post apocalpytic aesthetic rustpunk, cogpunk, dark surreal sci fi tree of life, tree of machines asset, individual desert dirt patches, mountains assets, 4k HD RPG retro embersteel 2D RPG roguelike sprite sheet assets with white background, transparent background, spread out assets on a grid, white background, orthographic view"
   ]
  },
  {
   "cell_type": "markdown",
   "metadata": {},
   "source": []
  }
 ],
 "metadata": {
  "kernelspec": {
   "display_name": "Python 3",
   "language": "python",
   "name": "python3"
  },
  "language_info": {
   "codemirror_mode": {
    "name": "ipython",
    "version": 3
   },
   "file_extension": ".py",
   "mimetype": "text/x-python",
   "name": "python",
   "nbconvert_exporter": "python",
   "pygments_lexer": "ipython3",
   "version": "3.11.4"
  },
  "orig_nbformat": 4
 },
 "nbformat": 4,
 "nbformat_minor": 2
}
